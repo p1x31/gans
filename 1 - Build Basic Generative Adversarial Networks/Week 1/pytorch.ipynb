{
 "cells": [
  {
   "cell_type": "code",
   "execution_count": 2,
   "id": "e45de977",
   "metadata": {},
   "outputs": [],
   "source": [
    "import torch \n",
    "from torch import nn ##custom layers for DL"
   ]
  },
  {
   "cell_type": "code",
   "execution_count": 6,
   "id": "ec0b0743",
   "metadata": {},
   "outputs": [],
   "source": [
    "class LogisticRegression(nn.Module):# subclass of nn.Module define model as a class\n",
    "    def __init__(self, input_size): #initialization method takes the parameters that are needed for your model consturctor init\n",
    "        super().__init__() #in - number of inputs for logistic regression \n",
    "        self.log_reg = nn.Sequential( # define architecture layering one by one\n",
    "        nn.Linear(input_size, 1), # linear layer output 1\n",
    "        nn.Sigmoid() # sigmoid activation between 0 and 1\n",
    "        )\n",
    "    def forward(self, x): #what happens when you forward inputs\n",
    "        return self.log_reg(x)"
   ]
  },
  {
   "cell_type": "code",
   "execution_count": 8,
   "id": "7426e2cc",
   "metadata": {},
   "outputs": [
    {
     "ename": "NameError",
     "evalue": "name 'x' is not defined",
     "output_type": "error",
     "traceback": [
      "\u001b[0;31m---------------------------------------------------------------------------\u001b[0m",
      "\u001b[0;31mNameError\u001b[0m                                 Traceback (most recent call last)",
      "Cell \u001b[0;32mIn[8], line 8\u001b[0m\n\u001b[1;32m      6\u001b[0m n_epochs \u001b[38;5;241m=\u001b[39m \u001b[38;5;241m7\u001b[39m\n\u001b[1;32m      7\u001b[0m \u001b[38;5;28;01mfor\u001b[39;00m t \u001b[38;5;129;01min\u001b[39;00m \u001b[38;5;28mrange\u001b[39m(n_epochs): \u001b[38;5;66;03m# train model for a number of epochs\u001b[39;00m\n\u001b[0;32m----> 8\u001b[0m     y_pred \u001b[38;5;241m=\u001b[39m model(\u001b[43mx\u001b[49m) \u001b[38;5;66;03m# pass inputs into your model\u001b[39;00m\n\u001b[1;32m      9\u001b[0m     loss \u001b[38;5;241m=\u001b[39m criterion(y_pred, y) \u001b[38;5;66;03m# forward prop compare prediction to the ground truth\u001b[39;00m\n\u001b[1;32m     10\u001b[0m     optimizer\u001b[38;5;241m.\u001b[39mzero_grad() \u001b[38;5;66;03m# zeroing from before\u001b[39;00m\n",
      "\u001b[0;31mNameError\u001b[0m: name 'x' is not defined"
     ]
    }
   ],
   "source": [
    "#training\n",
    "#define instance of a class \n",
    "model = LogisticRegression(16) # 16 input variable\n",
    "criterion = nn.BCELoss() # cost function criterion that model is learning from \n",
    "optimizer = torch.optim.SGD(model.parameters(), lr = 0.01) # parameters weight that are going to be updated\n",
    "n_epochs = 7\n",
    "for t in range(n_epochs): # train model for a number of epochs\n",
    "    y_pred = model(x) # pass inputs into your model\n",
    "    loss = criterion(y_pred, y) # forward prop compare prediction to the ground truth\n",
    "    optimizer.zero_grad() # zeroing from before\n",
    "    loss.backward()\n",
    "    optimizer.step() # use SGD on parameters with small learning rate"
   ]
  },
  {
   "cell_type": "code",
   "execution_count": null,
   "id": "58805c2d",
   "metadata": {},
   "outputs": [],
   "source": [
    "#Also, the complete training process might require additional steps such as \n",
    "#data loading, preprocessing, and splitting into training and validation sets."
   ]
  }
 ],
 "metadata": {
  "kernelspec": {
   "display_name": "Python 3 (ipykernel)",
   "language": "python",
   "name": "python3"
  },
  "language_info": {
   "codemirror_mode": {
    "name": "ipython",
    "version": 3
   },
   "file_extension": ".py",
   "mimetype": "text/x-python",
   "name": "python",
   "nbconvert_exporter": "python",
   "pygments_lexer": "ipython3",
   "version": "3.9.16"
  }
 },
 "nbformat": 4,
 "nbformat_minor": 5
}
